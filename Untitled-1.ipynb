{
 "cells": [
  {
   "cell_type": "markdown",
   "metadata": {},
   "source": [
    "# Import and merge the dataset"
   ]
  },
  {
   "cell_type": "code",
   "execution_count": 1,
   "metadata": {},
   "outputs": [],
   "source": [
    "import pandas as pd\n",
    "data_train = pd.read_csv('datasets_xlsx/Responses_train+validation.csv', sep=';')\n",
    "data_test = pd.read_csv('datasets_xlsx/responses_test.csv', sep=';')\n",
    "data_challenge = pd.read_csv('datasets_xlsx/responses_challenge.csv', sep=';')\n",
    "\n",
    "fullData = pd.merge(data_train, data_test, on=\"Gait ID\")\n",
    "fullData = pd.merge(fullData, data_challenge, on=\"Gait ID\")"
   ]
  },
  {
   "cell_type": "markdown",
   "metadata": {},
   "source": [
    "# Remove NaN and export .csv"
   ]
  },
  {
   "cell_type": "code",
   "execution_count": 2,
   "metadata": {},
   "outputs": [],
   "source": [
    "attributesFull = fullData.columns.tolist()\n",
    "\n",
    "fullData.fillna(0, inplace=True)\n",
    "#print(fullData)"
   ]
  },
  {
   "cell_type": "markdown",
   "metadata": {},
   "source": [
    "# Bilanciamento dataset"
   ]
  },
  {
   "cell_type": "code",
   "execution_count": 4,
   "metadata": {},
   "outputs": [
    {
     "name": "stdout",
     "output_type": "stream",
     "text": [
      "           Gait ID  VID_RGB_000  VID_RGB_000.1  VID_RGB_000.2  VID_RGB_000.3  \\\n",
      "0         Question        Happy          Angry            Sad        Neutral   \n",
      "1    Participant 1            0              0              0              0   \n",
      "2    Participant 2            1              5              1              1   \n",
      "3    Participant 3            0              0              0              0   \n",
      "4    Participant 4            0              0              0              0   \n",
      "..             ...          ...            ...            ...            ...   \n",
      "84  Participant 84            0              0              0              0   \n",
      "85  Participant 85            0              0              0              0   \n",
      "86  Participant 86            0              0              0              0   \n",
      "87  Participant 87            3              4              4              4   \n",
      "88  Participant 88            0              0              0              0   \n",
      "\n",
      "    VID_RGB_001  VID_RGB_001.1  VID_RGB_001.2  VID_RGB_001.3  VID_RGB_002  \\\n",
      "0         Happy          Angry            Sad        Neutral        Happy   \n",
      "1             0              0              0              0            0   \n",
      "2             0              0              0              0            4   \n",
      "3             0              0              0              0            0   \n",
      "4             0              0              0              0            0   \n",
      "..          ...            ...            ...            ...          ...   \n",
      "84            0              0              0              0            0   \n",
      "85            0              0              0              0            2   \n",
      "86            0              0              0              0            0   \n",
      "87            0              0              0              0            0   \n",
      "88            0              0              0              0            1   \n",
      "\n",
      "    ...  VID_RGB_081.2  VID_RGB_081.3  VID_RGB_082  VID_RGB_082.1  \\\n",
      "0   ...            Sad        Neutral        Happy          Angry   \n",
      "1   ...              0              0            0              0   \n",
      "2   ...              0              0            0              0   \n",
      "3   ...              0              0            0              0   \n",
      "4   ...              0              0            0              0   \n",
      "..  ...            ...            ...          ...            ...   \n",
      "84  ...              4              2            0              0   \n",
      "85  ...              0              0            0              0   \n",
      "86  ...              0              0            0              0   \n",
      "87  ...              0              0            4              2   \n",
      "88  ...              0              0            0              0   \n",
      "\n",
      "    VID_RGB_082.2  VID_RGB_082.3  VID_RGB_083  VID_RGB_083.1  VID_RGB_083.2  \\\n",
      "0             Sad        Neutral        Happy          Angry            Sad   \n",
      "1               0              0            0              0              0   \n",
      "2               0              0            1              1              5   \n",
      "3               0              0            0              0              0   \n",
      "4               0              0            0              0              0   \n",
      "..            ...            ...          ...            ...            ...   \n",
      "84              0              0            0              0              0   \n",
      "85              0              0            0              0              0   \n",
      "86              0              0            0              0              0   \n",
      "87              1              3            0              0              0   \n",
      "88              0              0            0              0              0   \n",
      "\n",
      "    VID_RGB_083.3  \n",
      "0         Neutral  \n",
      "1               0  \n",
      "2               1  \n",
      "3               0  \n",
      "4               0  \n",
      "..            ...  \n",
      "84              0  \n",
      "85              0  \n",
      "86              0  \n",
      "87              0  \n",
      "88              0  \n",
      "\n",
      "[89 rows x 337 columns]\n"
     ]
    }
   ],
   "source": [
    "# modifica classi\n",
    "fullData.iloc[0] = fullData.iloc[0].replace(\"The person in the video appears ... - Happy\", \"Happy\", regex=False)\n",
    "fullData.iloc[0] = fullData.iloc[0].replace(\"The person in the video appears ... - Angry\", \"Angry\", regex=False)\n",
    "fullData.iloc[0] = fullData.iloc[0].replace(\"The person in the video appears ... - Neutral\", \"Neutral\", regex=False)\n",
    "fullData.iloc[0] = fullData.iloc[0].replace(\"The person in the video appears ... - Sad\", \"Sad\", regex=False)\n",
    "\n",
    "print(fullData)\n",
    "\n",
    "fullData.to_csv('fullData.csv')"
   ]
  },
  {
   "cell_type": "code",
   "execution_count": 5,
   "metadata": {},
   "outputs": [],
   "source": [
    "# Ignoriamo la prima riga contenente le etichette\n",
    "df_numeric = fullData.iloc[1:].copy()\n",
    "\n",
    "# Convertiamo tutte le colonne numeriche in int\n",
    "df_numeric.iloc[:, 1:] = df_numeric.iloc[:, 1:].astype(float)\n",
    "\n",
    "# Calcolo della media pesata per ogni colonna\n",
    "means = {'Gait ID': 'Weighted Mean'}\n",
    "for column in df_numeric.columns[1:]:\n",
    "    col_sum = df_numeric[column].sum()\n",
    "    instances_count = len(df_numeric[column])\n",
    "    \n",
    "    # Se ci sono valori diversi da 0, calcoliamo la media\n",
    "    if instances_count > 0:\n",
    "        means[column] = col_sum / instances_count\n",
    "    else:\n",
    "        means[column] = 0  # Se non ci sono valori diversi da 0, la media è 0\n",
    "\n",
    "# Converti il dizionario delle medie in un DataFrame\n",
    "means_df = pd.DataFrame([means])\n",
    "\n",
    "# Usa pd.concat per aggiungere la nuova riga delle medie pesate al DataFrame originale\n",
    "fullData = pd.concat([fullData, means_df], ignore_index=True)\n"
   ]
  },
  {
   "cell_type": "code",
   "execution_count": 6,
   "metadata": {},
   "outputs": [
    {
     "name": "stdout",
     "output_type": "stream",
     "text": [
      "           Gait ID  VID_RGB_000  VID_RGB_000.1  VID_RGB_000.2  VID_RGB_000.3  \\\n",
      "0         Question        Happy          Angry            Sad        Neutral   \n",
      "1    Participant 1            0              0              0              0   \n",
      "2    Participant 2            1              5              1              1   \n",
      "3    Participant 3            0              0              0              0   \n",
      "4    Participant 4            0              0              0              0   \n",
      "..             ...          ...            ...            ...            ...   \n",
      "85  Participant 85            0              0              0              0   \n",
      "86  Participant 86            0              0              0              0   \n",
      "87  Participant 87            3              4              4              4   \n",
      "88  Participant 88            0              0              0              0   \n",
      "89   Weighted Mean     0.238636       0.420455       0.193182       0.238636   \n",
      "\n",
      "    VID_RGB_001  VID_RGB_001.1  VID_RGB_001.2  VID_RGB_001.3  VID_RGB_002  \\\n",
      "0         Happy          Angry            Sad        Neutral        Happy   \n",
      "1             0              0              0              0            0   \n",
      "2             0              0              0              0            4   \n",
      "3             0              0              0              0            0   \n",
      "4             0              0              0              0            0   \n",
      "..          ...            ...            ...            ...          ...   \n",
      "85            0              0              0              0            2   \n",
      "86            0              0              0              0            0   \n",
      "87            0              0              0              0            0   \n",
      "88            0              0              0              0            1   \n",
      "89     0.340909          0.375           0.25          0.375     0.318182   \n",
      "\n",
      "    ...  VID_RGB_081.2  VID_RGB_081.3  VID_RGB_082  VID_RGB_082.1  \\\n",
      "0   ...            Sad        Neutral        Happy          Angry   \n",
      "1   ...              0              0            0              0   \n",
      "2   ...              0              0            0              0   \n",
      "3   ...              0              0            0              0   \n",
      "4   ...              0              0            0              0   \n",
      "..  ...            ...            ...          ...            ...   \n",
      "85  ...              0              0            0              0   \n",
      "86  ...              0              0            0              0   \n",
      "87  ...              0              0            4              2   \n",
      "88  ...              0              0            0              0   \n",
      "89  ...       0.318182       0.340909     0.295455       0.238636   \n",
      "\n",
      "    VID_RGB_082.2  VID_RGB_082.3  VID_RGB_083  VID_RGB_083.1  VID_RGB_083.2  \\\n",
      "0             Sad        Neutral        Happy          Angry            Sad   \n",
      "1               0              0            0              0              0   \n",
      "2               0              0            1              1              5   \n",
      "3               0              0            0              0              0   \n",
      "4               0              0            0              0              0   \n",
      "..            ...            ...          ...            ...            ...   \n",
      "85              0              0            0              0              0   \n",
      "86              0              0            0              0              0   \n",
      "87              1              3            0              0              0   \n",
      "88              0              0            0              0              0   \n",
      "89       0.284091       0.409091     0.193182       0.238636       0.511364   \n",
      "\n",
      "    VID_RGB_083.3  \n",
      "0         Neutral  \n",
      "1               0  \n",
      "2               1  \n",
      "3               0  \n",
      "4               0  \n",
      "..            ...  \n",
      "85              0  \n",
      "86              0  \n",
      "87              0  \n",
      "88              0  \n",
      "89       0.363636  \n",
      "\n",
      "[90 rows x 337 columns]\n"
     ]
    }
   ],
   "source": [
    "print(fullData)\n",
    "fullData.to_csv('fullData.csv')"
   ]
  },
  {
   "cell_type": "code",
   "execution_count": null,
   "metadata": {},
   "outputs": [],
   "source": []
  }
 ],
 "metadata": {
  "kernelspec": {
   "display_name": "Python 3",
   "language": "python",
   "name": "python3"
  },
  "language_info": {
   "codemirror_mode": {
    "name": "ipython",
    "version": 3
   },
   "file_extension": ".py",
   "mimetype": "text/x-python",
   "name": "python",
   "nbconvert_exporter": "python",
   "pygments_lexer": "ipython3",
   "version": "3.12.6"
  }
 },
 "nbformat": 4,
 "nbformat_minor": 2
}
